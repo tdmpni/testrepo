{
    "cells": [
        {
            "metadata": {
                "collapsed": true
            },
            "cell_type": "markdown",
            "source": "# My Jupyter Notebook on IBM Watson Studio\n\n\n_99.9% Human_ \n\nI'm interested in data science as I love exploring all the interesting insights it can bring"
        },
        {
            "metadata": {},
            "cell_type": "markdown",
            "source": "## **Tapiwa Mapani**\nAspiring Data Scientist"
        },
        {
            "metadata": {},
            "cell_type": "markdown",
            "source": "_I am interested in data science as I love connecting the dots with numbers_"
        },
        {
            "metadata": {},
            "cell_type": "markdown",
            "source": "### The code below will take two variables (x,y) and add them"
        },
        {
            "metadata": {},
            "cell_type": "code",
            "source": "x = 5\ny = 3\n\n(x + y)",
            "execution_count": 4,
            "outputs": [
                {
                    "output_type": "execute_result",
                    "execution_count": 4,
                    "data": {
                        "text/plain": "8"
                    },
                    "metadata": {}
                }
            ]
        },
        {
            "metadata": {},
            "cell_type": "markdown",
            "source": " | A | B | C |\n | --- | --- | ---|\n | 1 | 2 | 3 | \n \n ### To Do List:\n * ~Learn data science~\n * learn even more data science\n * Use data science in the real word\n \n > Blockquotes are very handy indeed\n \n [ Where every search begins](https://google.com)\n "
        }
    ],
    "metadata": {
        "kernelspec": {
            "name": "python3",
            "display_name": "Python 3.7",
            "language": "python"
        },
        "language_info": {
            "name": "python",
            "version": "3.7.9",
            "mimetype": "text/x-python",
            "codemirror_mode": {
                "name": "ipython",
                "version": 3
            },
            "pygments_lexer": "ipython3",
            "nbconvert_exporter": "python",
            "file_extension": ".py"
        }
    },
    "nbformat": 4,
    "nbformat_minor": 1
}